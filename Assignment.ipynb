{
 "cells": [
  {
   "cell_type": "markdown",
   "id": "0718a93e",
   "metadata": {},
   "source": [
    "# Assignment"
   ]
  },
  {
   "cell_type": "markdown",
   "id": "cf985d05",
   "metadata": {},
   "source": [
    "# Task 1"
   ]
  },
  {
   "cell_type": "code",
   "execution_count": 3,
   "id": "0d58524b",
   "metadata": {},
   "outputs": [
    {
     "name": "stdout",
     "output_type": "stream",
     "text": [
      "['HisEyes', 'HisWeight', 'eyes', 'name', 'weight']\n",
      "['HerCooking', 'HerHeight', 'cooking', 'height', 'language', 'name']\n",
      "['HerCooking', 'HerHeight', 'HisEyes', 'HisWeight', 'build', 'cooking', 'eyes', 'height', 'language', 'name', 'siblings', 'weight']\n"
     ]
    }
   ],
   "source": [
    "class Father():   # Father class \n",
    "    def __init__(self,name):\n",
    "        self.name = name\n",
    "        self.eyes = None\n",
    "        self.weight = None\n",
    "        \n",
    "    def HisWeight(self):\n",
    "        return f\"I am weighing {self.weight}\"\n",
    "    \n",
    "    def HisEyes(self):\n",
    "        return f\"He has {self.eyes}\"\n",
    "f1 = Father('Ahmed')\n",
    "\n",
    "class Mother():   # Mother class\n",
    "    def __init__(self,name):\n",
    "        self.name = name \n",
    "        self.language = None\n",
    "        self.height = None\n",
    "        self.cooking = None\n",
    "        \n",
    "    def HerCooking(self):\n",
    "        return f\"I can cook {self.cooking}\"\n",
    "    \n",
    "    def HerHeight(self):\n",
    "        return f\"My height is {self.height}\"\n",
    "    \n",
    "m1 = Mother('Rabia') \n",
    "\n",
    "class Child(Father, Mother):    # Child class \n",
    "    def __init__(self,name):\n",
    "        Father.__init__(self,name)\n",
    "        Mother.__init__(self,name)\n",
    "        self.siblings = None\n",
    "        self.build = None\n",
    "        \n",
    "c1 = Child('Ali')\n",
    "\n",
    "print(list(i for i in dir(f1) if \"__\" not in i)) # Attributes and Methods of Father\n",
    "\n",
    "print(list(i for i in dir(m1) if \"__\" not in i)) # Attributes and Methods of Mother\n",
    "\n",
    "print(list(i for i in dir(c1) if \"__\" not in i)) # Attributes and Methods of Child  "
   ]
  },
  {
   "cell_type": "markdown",
   "id": "b7d9f1ea",
   "metadata": {},
   "source": [
    "# Task 2"
   ]
  },
  {
   "cell_type": "code",
   "execution_count": 4,
   "id": "96641671",
   "metadata": {},
   "outputs": [
    {
     "name": "stdout",
     "output_type": "stream",
     "text": [
      "350\n",
      "480\n",
      "650\n"
     ]
    }
   ],
   "source": [
    "class Bill(): \n",
    "  def __init__(self,name,price):\n",
    "    self.name = name\n",
    "    self.price = price\n",
    "  def __add__(num1, num2):\n",
    "    x = num1.price+num2.price\n",
    "    return x\n",
    "\n",
    "item1 = Bill(\"eggs\", 200)\n",
    "item2 = Bill(\"milk\",150)\n",
    "print(item1+item2)\n",
    "item1 = Bill(\"bread\", 180)\n",
    "item2 = Bill(\"jam\", 300)\n",
    "print(item1+item2)\n",
    "item1 = Bill(\"butter\", 400) \n",
    "item2 = Bill(\"juice\", 250)\n",
    "print(item1+item2)"
   ]
  },
  {
   "cell_type": "code",
   "execution_count": null,
   "id": "a0bc8911",
   "metadata": {},
   "outputs": [],
   "source": []
  }
 ],
 "metadata": {
  "kernelspec": {
   "display_name": "Python 3 (ipykernel)",
   "language": "python",
   "name": "python3"
  },
  "language_info": {
   "codemirror_mode": {
    "name": "ipython",
    "version": 3
   },
   "file_extension": ".py",
   "mimetype": "text/x-python",
   "name": "python",
   "nbconvert_exporter": "python",
   "pygments_lexer": "ipython3",
   "version": "3.9.12"
  }
 },
 "nbformat": 4,
 "nbformat_minor": 5
}
